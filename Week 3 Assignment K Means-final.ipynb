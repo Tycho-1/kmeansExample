{
 "cells": [
  {
   "cell_type": "code",
   "execution_count": 2,
   "metadata": {
    "collapsed": false
   },
   "outputs": [],
   "source": [
    "from pyspark.sql import SQLContext\n",
    "from pyspark.ml.clustering import KMeans\n",
    "from pyspark.ml.feature import VectorAssembler\n",
    "from pyspark.ml.feature import StandardScaler\n",
    "import pandas as pd\n",
    "%matplotlib inline"
   ]
  },
  {
   "cell_type": "code",
   "execution_count": 9,
   "metadata": {
    "collapsed": false
   },
   "outputs": [],
   "source": [
    "dataPd2 = pd.read_csv('~/Downloads/big_data_capstone_datasets_and_scripts/combined-data.csv')"
   ]
  },
  {
   "cell_type": "code",
   "execution_count": 10,
   "metadata": {
    "collapsed": false
   },
   "outputs": [
    {
     "data": {
      "text/html": [
       "<div>\n",
       "<table border=\"1\" class=\"dataframe\">\n",
       "  <thead>\n",
       "    <tr style=\"text-align: right;\">\n",
       "      <th></th>\n",
       "      <th>userId</th>\n",
       "      <th>userSessionId</th>\n",
       "      <th>teamLevel</th>\n",
       "      <th>platformType</th>\n",
       "      <th>count_gameclicks</th>\n",
       "      <th>count_hits</th>\n",
       "      <th>count_buyId</th>\n",
       "      <th>avg_price</th>\n",
       "    </tr>\n",
       "  </thead>\n",
       "  <tbody>\n",
       "    <tr>\n",
       "      <th>0</th>\n",
       "      <td>812</td>\n",
       "      <td>5648</td>\n",
       "      <td>1</td>\n",
       "      <td>android</td>\n",
       "      <td>69</td>\n",
       "      <td>8</td>\n",
       "      <td>NaN</td>\n",
       "      <td>NaN</td>\n",
       "    </tr>\n",
       "    <tr>\n",
       "      <th>1</th>\n",
       "      <td>1658</td>\n",
       "      <td>5649</td>\n",
       "      <td>1</td>\n",
       "      <td>iphone</td>\n",
       "      <td>31</td>\n",
       "      <td>5</td>\n",
       "      <td>NaN</td>\n",
       "      <td>NaN</td>\n",
       "    </tr>\n",
       "    <tr>\n",
       "      <th>2</th>\n",
       "      <td>1589</td>\n",
       "      <td>5650</td>\n",
       "      <td>1</td>\n",
       "      <td>iphone</td>\n",
       "      <td>26</td>\n",
       "      <td>2</td>\n",
       "      <td>NaN</td>\n",
       "      <td>NaN</td>\n",
       "    </tr>\n",
       "    <tr>\n",
       "      <th>3</th>\n",
       "      <td>1863</td>\n",
       "      <td>5651</td>\n",
       "      <td>1</td>\n",
       "      <td>android</td>\n",
       "      <td>35</td>\n",
       "      <td>4</td>\n",
       "      <td>NaN</td>\n",
       "      <td>NaN</td>\n",
       "    </tr>\n",
       "    <tr>\n",
       "      <th>4</th>\n",
       "      <td>937</td>\n",
       "      <td>5652</td>\n",
       "      <td>1</td>\n",
       "      <td>android</td>\n",
       "      <td>39</td>\n",
       "      <td>0</td>\n",
       "      <td>1.0</td>\n",
       "      <td>1.0</td>\n",
       "    </tr>\n",
       "  </tbody>\n",
       "</table>\n",
       "</div>"
      ],
      "text/plain": [
       "   userId  userSessionId  teamLevel platformType  count_gameclicks  \\\n",
       "0     812           5648          1      android                69   \n",
       "1    1658           5649          1       iphone                31   \n",
       "2    1589           5650          1       iphone                26   \n",
       "3    1863           5651          1      android                35   \n",
       "4     937           5652          1      android                39   \n",
       "\n",
       "   count_hits  count_buyId  avg_price  \n",
       "0           8          NaN        NaN  \n",
       "1           5          NaN        NaN  \n",
       "2           2          NaN        NaN  \n",
       "3           4          NaN        NaN  \n",
       "4           0          1.0        1.0  "
      ]
     },
     "execution_count": 10,
     "metadata": {},
     "output_type": "execute_result"
    }
   ],
   "source": [
    "dataPd2.head()"
   ]
  },
  {
   "cell_type": "code",
   "execution_count": 11,
   "metadata": {
    "collapsed": false
   },
   "outputs": [
    {
     "data": {
      "text/html": [
       "<div>\n",
       "<table border=\"1\" class=\"dataframe\">\n",
       "  <thead>\n",
       "    <tr style=\"text-align: right;\">\n",
       "      <th></th>\n",
       "      <th>userId</th>\n",
       "      <th>userSessionId</th>\n",
       "      <th>teamLevel</th>\n",
       "      <th>platformType</th>\n",
       "      <th>count_gameclicks</th>\n",
       "      <th>count_hits</th>\n",
       "      <th>count_buyId</th>\n",
       "      <th>avg_price</th>\n",
       "    </tr>\n",
       "  </thead>\n",
       "  <tbody>\n",
       "    <tr>\n",
       "      <th>0</th>\n",
       "      <td>812</td>\n",
       "      <td>5648</td>\n",
       "      <td>1</td>\n",
       "      <td>android</td>\n",
       "      <td>69</td>\n",
       "      <td>8</td>\n",
       "      <td>0.0</td>\n",
       "      <td>0.0</td>\n",
       "    </tr>\n",
       "    <tr>\n",
       "      <th>1</th>\n",
       "      <td>1658</td>\n",
       "      <td>5649</td>\n",
       "      <td>1</td>\n",
       "      <td>iphone</td>\n",
       "      <td>31</td>\n",
       "      <td>5</td>\n",
       "      <td>0.0</td>\n",
       "      <td>0.0</td>\n",
       "    </tr>\n",
       "    <tr>\n",
       "      <th>2</th>\n",
       "      <td>1589</td>\n",
       "      <td>5650</td>\n",
       "      <td>1</td>\n",
       "      <td>iphone</td>\n",
       "      <td>26</td>\n",
       "      <td>2</td>\n",
       "      <td>0.0</td>\n",
       "      <td>0.0</td>\n",
       "    </tr>\n",
       "    <tr>\n",
       "      <th>3</th>\n",
       "      <td>1863</td>\n",
       "      <td>5651</td>\n",
       "      <td>1</td>\n",
       "      <td>android</td>\n",
       "      <td>35</td>\n",
       "      <td>4</td>\n",
       "      <td>0.0</td>\n",
       "      <td>0.0</td>\n",
       "    </tr>\n",
       "    <tr>\n",
       "      <th>4</th>\n",
       "      <td>937</td>\n",
       "      <td>5652</td>\n",
       "      <td>1</td>\n",
       "      <td>android</td>\n",
       "      <td>39</td>\n",
       "      <td>0</td>\n",
       "      <td>1.0</td>\n",
       "      <td>1.0</td>\n",
       "    </tr>\n",
       "  </tbody>\n",
       "</table>\n",
       "</div>"
      ],
      "text/plain": [
       "   userId  userSessionId  teamLevel platformType  count_gameclicks  \\\n",
       "0     812           5648          1      android                69   \n",
       "1    1658           5649          1       iphone                31   \n",
       "2    1589           5650          1       iphone                26   \n",
       "3    1863           5651          1      android                35   \n",
       "4     937           5652          1      android                39   \n",
       "\n",
       "   count_hits  count_buyId  avg_price  \n",
       "0           8          0.0        0.0  \n",
       "1           5          0.0        0.0  \n",
       "2           2          0.0        0.0  \n",
       "3           4          0.0        0.0  \n",
       "4           0          1.0        1.0  "
      ]
     },
     "execution_count": 11,
     "metadata": {},
     "output_type": "execute_result"
    }
   ],
   "source": [
    "dataPd2.loc[dataPd2.avg_price.isnull(),'avg_price']=0\n",
    "dataPd2.loc[dataPd2.count_buyId.isnull(),'count_buyId']=0\n",
    "\n",
    "#dataPd2.head()\n",
    "dataPd2.head()"
   ]
  },
  {
   "cell_type": "code",
   "execution_count": 12,
   "metadata": {
    "collapsed": false
   },
   "outputs": [],
   "source": [
    "dataPd2['revenue']=dataPd2['avg_price']*dataPd2['count_buyId']\n",
    "dataPd2['isHitRate']=dataPd2['count_hits']/dataPd2['count_gameclicks']"
   ]
  },
  {
   "cell_type": "code",
   "execution_count": 13,
   "metadata": {
    "collapsed": false
   },
   "outputs": [
    {
     "data": {
      "text/html": [
       "<div>\n",
       "<table border=\"1\" class=\"dataframe\">\n",
       "  <thead>\n",
       "    <tr style=\"text-align: right;\">\n",
       "      <th></th>\n",
       "      <th>userId</th>\n",
       "      <th>userSessionId</th>\n",
       "      <th>teamLevel</th>\n",
       "      <th>platformType</th>\n",
       "      <th>count_gameclicks</th>\n",
       "      <th>count_hits</th>\n",
       "      <th>count_buyId</th>\n",
       "      <th>avg_price</th>\n",
       "      <th>revenue</th>\n",
       "      <th>isHitRate</th>\n",
       "    </tr>\n",
       "  </thead>\n",
       "  <tbody>\n",
       "    <tr>\n",
       "      <th>0</th>\n",
       "      <td>812</td>\n",
       "      <td>5648</td>\n",
       "      <td>1</td>\n",
       "      <td>android</td>\n",
       "      <td>69</td>\n",
       "      <td>8</td>\n",
       "      <td>0.0</td>\n",
       "      <td>0.0</td>\n",
       "      <td>0.0</td>\n",
       "      <td>0.115942</td>\n",
       "    </tr>\n",
       "    <tr>\n",
       "      <th>1</th>\n",
       "      <td>1658</td>\n",
       "      <td>5649</td>\n",
       "      <td>1</td>\n",
       "      <td>iphone</td>\n",
       "      <td>31</td>\n",
       "      <td>5</td>\n",
       "      <td>0.0</td>\n",
       "      <td>0.0</td>\n",
       "      <td>0.0</td>\n",
       "      <td>0.161290</td>\n",
       "    </tr>\n",
       "    <tr>\n",
       "      <th>2</th>\n",
       "      <td>1589</td>\n",
       "      <td>5650</td>\n",
       "      <td>1</td>\n",
       "      <td>iphone</td>\n",
       "      <td>26</td>\n",
       "      <td>2</td>\n",
       "      <td>0.0</td>\n",
       "      <td>0.0</td>\n",
       "      <td>0.0</td>\n",
       "      <td>0.076923</td>\n",
       "    </tr>\n",
       "    <tr>\n",
       "      <th>3</th>\n",
       "      <td>1863</td>\n",
       "      <td>5651</td>\n",
       "      <td>1</td>\n",
       "      <td>android</td>\n",
       "      <td>35</td>\n",
       "      <td>4</td>\n",
       "      <td>0.0</td>\n",
       "      <td>0.0</td>\n",
       "      <td>0.0</td>\n",
       "      <td>0.114286</td>\n",
       "    </tr>\n",
       "    <tr>\n",
       "      <th>4</th>\n",
       "      <td>937</td>\n",
       "      <td>5652</td>\n",
       "      <td>1</td>\n",
       "      <td>android</td>\n",
       "      <td>39</td>\n",
       "      <td>0</td>\n",
       "      <td>1.0</td>\n",
       "      <td>1.0</td>\n",
       "      <td>1.0</td>\n",
       "      <td>0.000000</td>\n",
       "    </tr>\n",
       "    <tr>\n",
       "      <th>5</th>\n",
       "      <td>342</td>\n",
       "      <td>5653</td>\n",
       "      <td>1</td>\n",
       "      <td>android</td>\n",
       "      <td>36</td>\n",
       "      <td>5</td>\n",
       "      <td>0.0</td>\n",
       "      <td>0.0</td>\n",
       "      <td>0.0</td>\n",
       "      <td>0.138889</td>\n",
       "    </tr>\n",
       "    <tr>\n",
       "      <th>6</th>\n",
       "      <td>849</td>\n",
       "      <td>5654</td>\n",
       "      <td>1</td>\n",
       "      <td>iphone</td>\n",
       "      <td>40</td>\n",
       "      <td>5</td>\n",
       "      <td>0.0</td>\n",
       "      <td>0.0</td>\n",
       "      <td>0.0</td>\n",
       "      <td>0.125000</td>\n",
       "    </tr>\n",
       "    <tr>\n",
       "      <th>7</th>\n",
       "      <td>1277</td>\n",
       "      <td>5655</td>\n",
       "      <td>1</td>\n",
       "      <td>windows</td>\n",
       "      <td>46</td>\n",
       "      <td>8</td>\n",
       "      <td>0.0</td>\n",
       "      <td>0.0</td>\n",
       "      <td>0.0</td>\n",
       "      <td>0.173913</td>\n",
       "    </tr>\n",
       "    <tr>\n",
       "      <th>8</th>\n",
       "      <td>2203</td>\n",
       "      <td>5656</td>\n",
       "      <td>1</td>\n",
       "      <td>android</td>\n",
       "      <td>68</td>\n",
       "      <td>6</td>\n",
       "      <td>0.0</td>\n",
       "      <td>0.0</td>\n",
       "      <td>0.0</td>\n",
       "      <td>0.088235</td>\n",
       "    </tr>\n",
       "    <tr>\n",
       "      <th>9</th>\n",
       "      <td>585</td>\n",
       "      <td>5657</td>\n",
       "      <td>1</td>\n",
       "      <td>iphone</td>\n",
       "      <td>76</td>\n",
       "      <td>9</td>\n",
       "      <td>0.0</td>\n",
       "      <td>0.0</td>\n",
       "      <td>0.0</td>\n",
       "      <td>0.118421</td>\n",
       "    </tr>\n",
       "    <tr>\n",
       "      <th>10</th>\n",
       "      <td>1370</td>\n",
       "      <td>5658</td>\n",
       "      <td>1</td>\n",
       "      <td>iphone</td>\n",
       "      <td>69</td>\n",
       "      <td>6</td>\n",
       "      <td>0.0</td>\n",
       "      <td>0.0</td>\n",
       "      <td>0.0</td>\n",
       "      <td>0.086957</td>\n",
       "    </tr>\n",
       "    <tr>\n",
       "      <th>11</th>\n",
       "      <td>1623</td>\n",
       "      <td>5659</td>\n",
       "      <td>1</td>\n",
       "      <td>iphone</td>\n",
       "      <td>129</td>\n",
       "      <td>9</td>\n",
       "      <td>1.0</td>\n",
       "      <td>10.0</td>\n",
       "      <td>10.0</td>\n",
       "      <td>0.069767</td>\n",
       "    </tr>\n",
       "    <tr>\n",
       "      <th>12</th>\n",
       "      <td>881</td>\n",
       "      <td>5660</td>\n",
       "      <td>1</td>\n",
       "      <td>iphone</td>\n",
       "      <td>36</td>\n",
       "      <td>6</td>\n",
       "      <td>0.0</td>\n",
       "      <td>0.0</td>\n",
       "      <td>0.0</td>\n",
       "      <td>0.166667</td>\n",
       "    </tr>\n",
       "    <tr>\n",
       "      <th>13</th>\n",
       "      <td>83</td>\n",
       "      <td>5661</td>\n",
       "      <td>1</td>\n",
       "      <td>android</td>\n",
       "      <td>102</td>\n",
       "      <td>14</td>\n",
       "      <td>1.0</td>\n",
       "      <td>5.0</td>\n",
       "      <td>5.0</td>\n",
       "      <td>0.137255</td>\n",
       "    </tr>\n",
       "    <tr>\n",
       "      <th>14</th>\n",
       "      <td>453</td>\n",
       "      <td>5662</td>\n",
       "      <td>1</td>\n",
       "      <td>android</td>\n",
       "      <td>102</td>\n",
       "      <td>7</td>\n",
       "      <td>0.0</td>\n",
       "      <td>0.0</td>\n",
       "      <td>0.0</td>\n",
       "      <td>0.068627</td>\n",
       "    </tr>\n",
       "    <tr>\n",
       "      <th>15</th>\n",
       "      <td>1966</td>\n",
       "      <td>5663</td>\n",
       "      <td>1</td>\n",
       "      <td>iphone</td>\n",
       "      <td>63</td>\n",
       "      <td>8</td>\n",
       "      <td>0.0</td>\n",
       "      <td>0.0</td>\n",
       "      <td>0.0</td>\n",
       "      <td>0.126984</td>\n",
       "    </tr>\n",
       "    <tr>\n",
       "      <th>16</th>\n",
       "      <td>1073</td>\n",
       "      <td>5664</td>\n",
       "      <td>1</td>\n",
       "      <td>android</td>\n",
       "      <td>141</td>\n",
       "      <td>21</td>\n",
       "      <td>0.0</td>\n",
       "      <td>0.0</td>\n",
       "      <td>0.0</td>\n",
       "      <td>0.148936</td>\n",
       "    </tr>\n",
       "  </tbody>\n",
       "</table>\n",
       "</div>"
      ],
      "text/plain": [
       "    userId  userSessionId  teamLevel platformType  count_gameclicks  \\\n",
       "0      812           5648          1      android                69   \n",
       "1     1658           5649          1       iphone                31   \n",
       "2     1589           5650          1       iphone                26   \n",
       "3     1863           5651          1      android                35   \n",
       "4      937           5652          1      android                39   \n",
       "5      342           5653          1      android                36   \n",
       "6      849           5654          1       iphone                40   \n",
       "7     1277           5655          1      windows                46   \n",
       "8     2203           5656          1      android                68   \n",
       "9      585           5657          1       iphone                76   \n",
       "10    1370           5658          1       iphone                69   \n",
       "11    1623           5659          1       iphone               129   \n",
       "12     881           5660          1       iphone                36   \n",
       "13      83           5661          1      android               102   \n",
       "14     453           5662          1      android               102   \n",
       "15    1966           5663          1       iphone                63   \n",
       "16    1073           5664          1      android               141   \n",
       "\n",
       "    count_hits  count_buyId  avg_price  revenue  isHitRate  \n",
       "0            8          0.0        0.0      0.0   0.115942  \n",
       "1            5          0.0        0.0      0.0   0.161290  \n",
       "2            2          0.0        0.0      0.0   0.076923  \n",
       "3            4          0.0        0.0      0.0   0.114286  \n",
       "4            0          1.0        1.0      1.0   0.000000  \n",
       "5            5          0.0        0.0      0.0   0.138889  \n",
       "6            5          0.0        0.0      0.0   0.125000  \n",
       "7            8          0.0        0.0      0.0   0.173913  \n",
       "8            6          0.0        0.0      0.0   0.088235  \n",
       "9            9          0.0        0.0      0.0   0.118421  \n",
       "10           6          0.0        0.0      0.0   0.086957  \n",
       "11           9          1.0       10.0     10.0   0.069767  \n",
       "12           6          0.0        0.0      0.0   0.166667  \n",
       "13          14          1.0        5.0      5.0   0.137255  \n",
       "14           7          0.0        0.0      0.0   0.068627  \n",
       "15           8          0.0        0.0      0.0   0.126984  \n",
       "16          21          0.0        0.0      0.0   0.148936  "
      ]
     },
     "execution_count": 13,
     "metadata": {},
     "output_type": "execute_result"
    }
   ],
   "source": [
    "dataPd2.head(17)"
   ]
  },
  {
   "cell_type": "code",
   "execution_count": 14,
   "metadata": {
    "collapsed": false
   },
   "outputs": [
    {
     "data": {
      "text/plain": [
       "userId                int64\n",
       "userSessionId         int64\n",
       "teamLevel             int64\n",
       "platformType         object\n",
       "count_gameclicks      int64\n",
       "count_hits            int64\n",
       "count_buyId         float64\n",
       "avg_price           float64\n",
       "revenue             float64\n",
       "isHitRate           float64\n",
       "dtype: object"
      ]
     },
     "execution_count": 14,
     "metadata": {},
     "output_type": "execute_result"
    }
   ],
   "source": [
    "dataPd2.count()\n",
    "dataPd2.dtypes"
   ]
  },
  {
   "cell_type": "code",
   "execution_count": null,
   "metadata": {
    "collapsed": false
   },
   "outputs": [],
   "source": []
  },
  {
   "cell_type": "code",
   "execution_count": 16,
   "metadata": {
    "collapsed": true
   },
   "outputs": [],
   "source": [
    "sqlContext = SQLContext(sc)\n",
    "data2 = pDF = sqlContext.createDataFrame(dataPd2)"
   ]
  },
  {
   "cell_type": "code",
   "execution_count": 17,
   "metadata": {
    "collapsed": false
   },
   "outputs": [
    {
     "data": {
      "text/plain": [
       "[Row(userId=812, userSessionId=5648, teamLevel=1, platformType='android', count_gameclicks=69, count_hits=8, count_buyId=0.0, avg_price=0.0, revenue=0.0, isHitRate=0.11594202898550725),\n",
       " Row(userId=1658, userSessionId=5649, teamLevel=1, platformType='iphone', count_gameclicks=31, count_hits=5, count_buyId=0.0, avg_price=0.0, revenue=0.0, isHitRate=0.16129032258064516),\n",
       " Row(userId=1589, userSessionId=5650, teamLevel=1, platformType='iphone', count_gameclicks=26, count_hits=2, count_buyId=0.0, avg_price=0.0, revenue=0.0, isHitRate=0.07692307692307693)]"
      ]
     },
     "execution_count": 17,
     "metadata": {},
     "output_type": "execute_result"
    }
   ],
   "source": [
    "data2.take(3)"
   ]
  },
  {
   "cell_type": "code",
   "execution_count": 18,
   "metadata": {
    "collapsed": false
   },
   "outputs": [
    {
     "data": {
      "text/html": [
       "<div>\n",
       "<table border=\"1\" class=\"dataframe\">\n",
       "  <thead>\n",
       "    <tr style=\"text-align: right;\">\n",
       "      <th></th>\n",
       "      <th>0</th>\n",
       "      <th>1</th>\n",
       "      <th>2</th>\n",
       "      <th>3</th>\n",
       "      <th>4</th>\n",
       "    </tr>\n",
       "  </thead>\n",
       "  <tbody>\n",
       "    <tr>\n",
       "      <th>summary</th>\n",
       "      <td>count</td>\n",
       "      <td>mean</td>\n",
       "      <td>stddev</td>\n",
       "      <td>min</td>\n",
       "      <td>max</td>\n",
       "    </tr>\n",
       "    <tr>\n",
       "      <th>userId</th>\n",
       "      <td>4619</td>\n",
       "      <td>1189.9647109764019</td>\n",
       "      <td>691.0986309664246</td>\n",
       "      <td>0</td>\n",
       "      <td>2389</td>\n",
       "    </tr>\n",
       "    <tr>\n",
       "      <th>userSessionId</th>\n",
       "      <td>4619</td>\n",
       "      <td>17963.06798008227</td>\n",
       "      <td>7947.681126803095</td>\n",
       "      <td>5648</td>\n",
       "      <td>38722</td>\n",
       "    </tr>\n",
       "    <tr>\n",
       "      <th>teamLevel</th>\n",
       "      <td>4619</td>\n",
       "      <td>4.355704697986577</td>\n",
       "      <td>1.9246625516949587</td>\n",
       "      <td>1</td>\n",
       "      <td>8</td>\n",
       "    </tr>\n",
       "    <tr>\n",
       "      <th>count_gameclicks</th>\n",
       "      <td>4619</td>\n",
       "      <td>143.06300064949124</td>\n",
       "      <td>126.88339694316925</td>\n",
       "      <td>1</td>\n",
       "      <td>1207</td>\n",
       "    </tr>\n",
       "    <tr>\n",
       "      <th>count_hits</th>\n",
       "      <td>4619</td>\n",
       "      <td>15.705780471963628</td>\n",
       "      <td>13.986901900918744</td>\n",
       "      <td>0</td>\n",
       "      <td>121</td>\n",
       "    </tr>\n",
       "    <tr>\n",
       "      <th>count_buyId</th>\n",
       "      <td>4619</td>\n",
       "      <td>0.5141805585624594</td>\n",
       "      <td>0.9213108016318844</td>\n",
       "      <td>0.0</td>\n",
       "      <td>6.0</td>\n",
       "    </tr>\n",
       "    <tr>\n",
       "      <th>avg_price</th>\n",
       "      <td>4619</td>\n",
       "      <td>2.2038125135310676</td>\n",
       "      <td>4.90815363459935</td>\n",
       "      <td>0.0</td>\n",
       "      <td>20.0</td>\n",
       "    </tr>\n",
       "    <tr>\n",
       "      <th>revenue</th>\n",
       "      <td>4619</td>\n",
       "      <td>3.6781078155444917</td>\n",
       "      <td>9.003419458464911</td>\n",
       "      <td>0.0</td>\n",
       "      <td>100.0</td>\n",
       "    </tr>\n",
       "    <tr>\n",
       "      <th>isHitRate</th>\n",
       "      <td>4619</td>\n",
       "      <td>0.11126106781475024</td>\n",
       "      <td>0.04031406730713057</td>\n",
       "      <td>0.0</td>\n",
       "      <td>1.0</td>\n",
       "    </tr>\n",
       "  </tbody>\n",
       "</table>\n",
       "</div>"
      ],
      "text/plain": [
       "                      0                    1                    2     3      4\n",
       "summary           count                 mean               stddev   min    max\n",
       "userId             4619   1189.9647109764019    691.0986309664246     0   2389\n",
       "userSessionId      4619    17963.06798008227    7947.681126803095  5648  38722\n",
       "teamLevel          4619    4.355704697986577   1.9246625516949587     1      8\n",
       "count_gameclicks   4619   143.06300064949124   126.88339694316925     1   1207\n",
       "count_hits         4619   15.705780471963628   13.986901900918744     0    121\n",
       "count_buyId        4619   0.5141805585624594   0.9213108016318844   0.0    6.0\n",
       "avg_price          4619   2.2038125135310676     4.90815363459935   0.0   20.0\n",
       "revenue            4619   3.6781078155444917    9.003419458464911   0.0  100.0\n",
       "isHitRate          4619  0.11126106781475024  0.04031406730713057   0.0    1.0"
      ]
     },
     "execution_count": 18,
     "metadata": {},
     "output_type": "execute_result"
    }
   ],
   "source": [
    "data2.describe().toPandas().transpose()"
   ]
  },
  {
   "cell_type": "code",
   "execution_count": 19,
   "metadata": {
    "collapsed": false
   },
   "outputs": [],
   "source": [
    "featuresUsed = [\"teamLevel\", \"count_gameclicks\",\"isHitRate\",\"revenue\"]\n",
    "assembler = VectorAssembler(inputCols = featuresUsed, outputCol = \"unscaled_features\")\n",
    "assembled = assembler.transform(data2)"
   ]
  },
  {
   "cell_type": "code",
   "execution_count": 20,
   "metadata": {
    "collapsed": false
   },
   "outputs": [],
   "source": [
    "scaler = StandardScaler(inputCol = \"unscaled_features\", outputCol = \"features\", withStd = True, withMean = True)\n",
    "scalerModel = scaler.fit(assembled)\n",
    "scaledData = scalerModel.transform(assembled)"
   ]
  },
  {
   "cell_type": "code",
   "execution_count": 21,
   "metadata": {
    "collapsed": false
   },
   "outputs": [
    {
     "data": {
      "text/plain": [
       "DataFrame[features: vector]"
      ]
     },
     "execution_count": 21,
     "metadata": {},
     "output_type": "execute_result"
    }
   ],
   "source": [
    "scaledData = scaledData.select(\"features\")\n",
    "scaledData.persist()"
   ]
  },
  {
   "cell_type": "code",
   "execution_count": 22,
   "metadata": {
    "collapsed": false
   },
   "outputs": [],
   "source": [
    "kmeans = KMeans(k=4,seed=1)\n",
    "model = kmeans.fit(scaledData)\n",
    "transformed = model.transform(scaledData)"
   ]
  },
  {
   "cell_type": "code",
   "execution_count": 23,
   "metadata": {
    "collapsed": false
   },
   "outputs": [
    {
     "data": {
      "text/plain": [
       "[array([ 0.86570069, -0.21293302, -0.0127394 , -0.24507387]),\n",
       " array([-0.89329449, -0.38178499, -0.04340404, -0.30765913]),\n",
       " array([-0.49676996,  2.31216637, -0.10723995, -0.23463913]),\n",
       " array([ 0.44591589, -0.08180982,  0.37195592,  2.73402992])]"
      ]
     },
     "execution_count": 23,
     "metadata": {},
     "output_type": "execute_result"
    }
   ],
   "source": [
    "centers = model.clusterCenters()\n",
    "centers"
   ]
  },
  {
   "cell_type": "code",
   "execution_count": 24,
   "metadata": {
    "collapsed": false
   },
   "outputs": [
    {
     "name": "stdout",
     "output_type": "stream",
     "text": [
      "Training for cluster size 2 \n",
      "......................WSSE = 7198.054004833578 \n",
      "Training for cluster size 3 \n",
      "......................WSSE = 6516.054141496852 \n",
      "Training for cluster size 4 \n",
      "......................WSSE = 5434.622544842008 \n",
      "Training for cluster size 5 \n",
      "......................WSSE = 5421.36724599727 \n",
      "Training for cluster size 6 \n",
      "......................WSSE = 4790.1754704267105 \n"
     ]
    }
   ],
   "source": [
    "import utils\n",
    "clusters = range(2,7)\n",
    "wsseList = utils.elbow(scaledData,clusters)"
   ]
  },
  {
   "cell_type": "code",
   "execution_count": 25,
   "metadata": {
    "collapsed": false
   },
   "outputs": [
    {
     "data": {
      "image/png": "[encoded data removed]",
      "text/plain": [
       "<matplotlib.figure.Figure at 0x7fa06dae4be0>"
      ]
     },
     "metadata": {},
     "output_type": "display_data"
    }
   ],
   "source": [
    "utils.elbow_plot(wsseList,clusters)"
   ]
  },
  {
   "cell_type": "code",
   "execution_count": 28,
   "metadata": {
    "collapsed": false
   },
   "outputs": [
    {
     "data": {
      "text/plain": [
       "(1411, 10)"
      ]
     },
     "execution_count": 28,
     "metadata": {},
     "output_type": "execute_result"
    }
   ],
   "source": [
    "dataPd2_filtered = dataPd2.loc[dataPd2[\"avg_price\"] >0]\n",
    "dataPd2_filtered.shape"
   ]
  },
  {
   "cell_type": "code",
   "execution_count": 27,
   "metadata": {
    "collapsed": true
   },
   "outputs": [],
   "source": [
    "data2_filtered = sqlContext.createDataFrame(dataPd2_filtered)"
   ]
  },
  {
   "cell_type": "code",
   "execution_count": 29,
   "metadata": {
    "collapsed": false
   },
   "outputs": [],
   "source": [
    "featuresUsed = [\"teamLevel\", \"count_gameclicks\",\"isHitRate\",\"revenue\"]\n",
    "assembler = VectorAssembler(inputCols = featuresUsed, outputCol = \"unscaled_features\")\n",
    "assembled = assembler.transform(data2_filtered)"
   ]
  },
  {
   "cell_type": "code",
   "execution_count": 30,
   "metadata": {
    "collapsed": true
   },
   "outputs": [],
   "source": [
    "scaler = StandardScaler(inputCol = \"unscaled_features\", outputCol = \"features\", withStd = True, withMean = True)\n",
    "scalerModel = scaler.fit(assembled)\n",
    "scaledData = scalerModel.transform(assembled)"
   ]
  },
  {
   "cell_type": "code",
   "execution_count": 31,
   "metadata": {
    "collapsed": false
   },
   "outputs": [
    {
     "data": {
      "text/plain": [
       "DataFrame[features: vector]"
      ]
     },
     "execution_count": 31,
     "metadata": {},
     "output_type": "execute_result"
    }
   ],
   "source": [
    "scaledData = scaledData.select(\"features\")\n",
    "scaledData.persist()"
   ]
  },
  {
   "cell_type": "code",
   "execution_count": 36,
   "metadata": {
    "collapsed": false
   },
   "outputs": [
    {
     "name": "stdout",
     "output_type": "stream",
     "text": [
      "Training for cluster size 2 \n",
      "......................WSSE = 2266.251988081977 \n",
      "Training for cluster size 3 \n",
      "......................WSSE = 2014.8046482729096 \n",
      "Training for cluster size 4 \n",
      "......................WSSE = 1817.2829109335316 \n",
      "Training for cluster size 5 \n",
      "......................WSSE = 1680.4156589473298 \n",
      "Training for cluster size 6 \n",
      "......................WSSE = 1597.1585709517526 \n"
     ]
    }
   ],
   "source": [
    "wsseList = utils.elbow(scaledData,clusters)"
   ]
  },
  {
   "cell_type": "code",
   "execution_count": 37,
   "metadata": {
    "collapsed": false
   },
   "outputs": [
    {
     "data": {
      "image/png": "[encoded data removed]",
      "text/plain": [
       "<matplotlib.figure.Figure at 0x7fa06d485470>"
      ]
     },
     "metadata": {},
     "output_type": "display_data"
    }
   ],
   "source": [
    "utils.elbow_plot(wsseList,clusters)"
   ]
  },
  {
   "cell_type": "code",
   "execution_count": 38,
   "metadata": {
    "collapsed": true
   },
   "outputs": [],
   "source": [
    "kmeans = KMeans(k=3,seed=1)\n",
    "model = kmeans.fit(scaledData)\n",
    "transformed = model.transform(scaledData)"
   ]
  },
  {
   "cell_type": "code",
   "execution_count": 39,
   "metadata": {
    "collapsed": false
   },
   "outputs": [
    {
     "data": {
      "text/plain": [
       "[array([-1.10989195,  0.32100267, -0.32716861, -0.35485488]),\n",
       " array([ 0.61632754, -0.22336137,  0.08423079, -0.4691564 ]),\n",
       " array([ 0.41282224, -0.02802521,  0.31908294,  1.4814874 ])]"
      ]
     },
     "execution_count": 39,
     "metadata": {},
     "output_type": "execute_result"
    }
   ],
   "source": [
    "centers = model.clusterCenters()\n",
    "centers"
   ]
  },
  {
   "cell_type": "code",
   "execution_count": 347,
   "metadata": {
    "collapsed": false
   },
   "outputs": [
    {
     "data": {
      "text/plain": [
       "(1411, 11)"
      ]
     },
     "execution_count": 347,
     "metadata": {},
     "output_type": "execute_result"
    }
   ],
   "source": [
    "assembled.toPandas().shape"
   ]
  },
  {
   "cell_type": "code",
   "execution_count": 356,
   "metadata": {
    "collapsed": false
   },
   "outputs": [
    {
     "data": {
      "text/html": [
       "<div>\n",
       "<table border=\"1\" class=\"dataframe\">\n",
       "  <thead>\n",
       "    <tr style=\"text-align: right;\">\n",
       "      <th></th>\n",
       "      <th>teamLevel</th>\n",
       "      <th>count_gameclicks</th>\n",
       "      <th>isHitRate</th>\n",
       "      <th>revenue</th>\n",
       "    </tr>\n",
       "  </thead>\n",
       "  <tbody>\n",
       "    <tr>\n",
       "      <th>0</th>\n",
       "      <td>1</td>\n",
       "      <td>39</td>\n",
       "      <td>0.000000</td>\n",
       "      <td>1.0</td>\n",
       "    </tr>\n",
       "    <tr>\n",
       "      <th>1</th>\n",
       "      <td>1</td>\n",
       "      <td>129</td>\n",
       "      <td>0.069767</td>\n",
       "      <td>10.0</td>\n",
       "    </tr>\n",
       "    <tr>\n",
       "      <th>2</th>\n",
       "      <td>1</td>\n",
       "      <td>102</td>\n",
       "      <td>0.137255</td>\n",
       "      <td>5.0</td>\n",
       "    </tr>\n",
       "    <tr>\n",
       "      <th>3</th>\n",
       "      <td>1</td>\n",
       "      <td>39</td>\n",
       "      <td>0.102564</td>\n",
       "      <td>3.0</td>\n",
       "    </tr>\n",
       "    <tr>\n",
       "      <th>4</th>\n",
       "      <td>1</td>\n",
       "      <td>90</td>\n",
       "      <td>0.111111</td>\n",
       "      <td>3.0</td>\n",
       "    </tr>\n",
       "    <tr>\n",
       "      <th>5</th>\n",
       "      <td>1</td>\n",
       "      <td>51</td>\n",
       "      <td>0.156863</td>\n",
       "      <td>20.0</td>\n",
       "    </tr>\n",
       "    <tr>\n",
       "      <th>6</th>\n",
       "      <td>1</td>\n",
       "      <td>51</td>\n",
       "      <td>0.117647</td>\n",
       "      <td>5.0</td>\n",
       "    </tr>\n",
       "    <tr>\n",
       "      <th>7</th>\n",
       "      <td>1</td>\n",
       "      <td>47</td>\n",
       "      <td>0.106383</td>\n",
       "      <td>4.0</td>\n",
       "    </tr>\n",
       "  </tbody>\n",
       "</table>\n",
       "</div>"
      ],
      "text/plain": [
       "   teamLevel  count_gameclicks  isHitRate  revenue\n",
       "0          1                39   0.000000      1.0\n",
       "1          1               129   0.069767     10.0\n",
       "2          1               102   0.137255      5.0\n",
       "3          1                39   0.102564      3.0\n",
       "4          1                90   0.111111      3.0\n",
       "5          1                51   0.156863     20.0\n",
       "6          1                51   0.117647      5.0\n",
       "7          1                47   0.106383      4.0"
      ]
     },
     "execution_count": 356,
     "metadata": {},
     "output_type": "execute_result"
    }
   ],
   "source": [
    "data2_filtered[featuresUsed].toPandas().head(8)"
   ]
  },
  {
   "cell_type": "code",
   "execution_count": 360,
   "metadata": {
    "collapsed": false
   },
   "outputs": [
    {
     "data": {
      "text/plain": [
       "(1411, 4)"
      ]
     },
     "execution_count": 360,
     "metadata": {},
     "output_type": "execute_result"
    }
   ],
   "source": [
    "data2_filtered[featuresUsed].toPandas().shape"
   ]
  },
  {
   "cell_type": "code",
   "execution_count": 41,
   "metadata": {
    "collapsed": false
   },
   "outputs": [
    {
     "name": "stdout",
     "output_type": "stream",
     "text": [
      "./ad-clicks.csv\n",
      "./buy-clicks.csv\n",
      "./chat-data.zip\n",
      "./combined-data.csv\n",
      "./combined-data.zip\n",
      "./flamingo-data.zip\n",
      "./game-clicks.csv\n",
      "./level-events.csv\n",
      "./load-neo4j.cypher\n",
      "./__pycache__/\n",
      "./__pycache__/utils.cpython-35.pyc\n",
      "./setupWeek3.sh\n",
      "./sparkMLlibClustering.py\n",
      "./team-assignments.csv\n",
      "./team.csv\n",
      "./users.csv\n",
      "./user-session.csv\n",
      "./utils.py\n",
      "./Week 3 Assignment K Means-final.ipynb\n",
      "./Week 3 Assignment K Means.ipynb\n",
      "./Week 3 pySpark MLlib Clustering.ipynb\n",
      "./X\n"
     ]
    }
   ],
   "source": [
    "!echo '*.gz\\n*.zip\\nX'>X; tar cvfzh week3_assignment_final.tar.gz -X X ./*"
   ]
  },
  {
   "cell_type": "code",
   "execution_count": null,
   "metadata": {
    "collapsed": true
   },
   "outputs": [],
   "source": []
  }
 ],
 "metadata": {
  "kernelspec": {
   "display_name": "Python 3",
   "language": "python",
   "name": "python3"
  },
  "language_info": {
   "codemirror_mode": {
    "name": "ipython",
    "version": 3
   },
   "file_extension": ".py",
   "mimetype": "text/x-python",
   "name": "python",
   "nbconvert_exporter": "python",
   "pygments_lexer": "ipython3",
   "version": "3.5.1"
  }
 },
 "nbformat": 4,
 "nbformat_minor": 0
}
